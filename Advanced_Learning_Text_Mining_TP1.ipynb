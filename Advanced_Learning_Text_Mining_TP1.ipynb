{
 "cells": [
  {
   "cell_type": "code",
   "execution_count": null,
   "metadata": {},
   "outputs": [],
   "source": [
    "import pandas as pd\n",
    "import re\n",
    "from nltk.stem import SnowballStemmer\n",
    "from nltk.corpus import stopwords"
   ]
  },
  {
   "cell_type": "markdown",
   "metadata": {},
   "source": [
    "## Import Dataset"
   ]
  },
  {
   "cell_type": "code",
   "execution_count": 10,
   "metadata": {},
   "outputs": [
    {
     "name": "stdout",
     "output_type": "stream",
     "text": [
      "                                                     0\n",
      "0                                LOVE U @APPLE,1.8\\t\\n\n",
      "1    Thank you @apple, loving my new iPhone 5S!!!!!...\n",
      "2    .@apple has the best customer service. In and ...\n",
      "3    @apple ear pods are AMAZING! Best sound from i...\n",
      "4    Omg the iPhone 5S is so cool it can read your ...\n",
      "..                                                 ...\n",
      "684  At the @Apple store finally getting a new phon...\n",
      "685  i need a middle finger emoji @apple mAKE ONE,-...\n",
      "686  Why y'all jerks not puttin the 5s on presale @...\n",
      "687  .@Apple discontinues Cards app and printing se...\n",
      "688  With iBeacon, @Apple is going to dump on NFC a...\n",
      "\n",
      "[689 rows x 1 columns]\n"
     ]
    }
   ],
   "source": [
    "with open('apple.txt', 'r') as mon_fichier:\n",
    "    apple = mon_fichier.readlines()\n",
    "data = pd.DataFrame(apple)\n",
    "print(data)"
   ]
  },
  {
   "cell_type": "markdown",
   "metadata": {},
   "source": [
    "Premièrement on doit supprimer les lignes duplicates avec la fonction \"drop_duplicates\""
   ]
  },
  {
   "cell_type": "code",
   "execution_count": 11,
   "metadata": {},
   "outputs": [
    {
     "data": {
      "text/html": [
       "<div>\n",
       "<style scoped>\n",
       "    .dataframe tbody tr th:only-of-type {\n",
       "        vertical-align: middle;\n",
       "    }\n",
       "\n",
       "    .dataframe tbody tr th {\n",
       "        vertical-align: top;\n",
       "    }\n",
       "\n",
       "    .dataframe thead th {\n",
       "        text-align: right;\n",
       "    }\n",
       "</style>\n",
       "<table border=\"1\" class=\"dataframe\">\n",
       "  <thead>\n",
       "    <tr style=\"text-align: right;\">\n",
       "      <th></th>\n",
       "      <th>0</th>\n",
       "    </tr>\n",
       "  </thead>\n",
       "  <tbody>\n",
       "    <tr>\n",
       "      <th>0</th>\n",
       "      <td>LOVE U @APPLE,1.8\\t\\n</td>\n",
       "    </tr>\n",
       "    <tr>\n",
       "      <th>1</th>\n",
       "      <td>Thank you @apple, loving my new iPhone 5S!!!!!...</td>\n",
       "    </tr>\n",
       "    <tr>\n",
       "      <th>2</th>\n",
       "      <td>.@apple has the best customer service. In and ...</td>\n",
       "    </tr>\n",
       "    <tr>\n",
       "      <th>3</th>\n",
       "      <td>@apple ear pods are AMAZING! Best sound from i...</td>\n",
       "    </tr>\n",
       "    <tr>\n",
       "      <th>4</th>\n",
       "      <td>Omg the iPhone 5S is so cool it can read your ...</td>\n",
       "    </tr>\n",
       "  </tbody>\n",
       "</table>\n",
       "</div>"
      ],
      "text/plain": [
       "                                                   0\n",
       "0                              LOVE U @APPLE,1.8\\t\\n\n",
       "1  Thank you @apple, loving my new iPhone 5S!!!!!...\n",
       "2  .@apple has the best customer service. In and ...\n",
       "3  @apple ear pods are AMAZING! Best sound from i...\n",
       "4  Omg the iPhone 5S is so cool it can read your ..."
      ]
     },
     "execution_count": 11,
     "metadata": {},
     "output_type": "execute_result"
    }
   ],
   "source": [
    "data.drop_duplicates(subset=[0], keep='first', inplace=True)\n",
    "data.head()"
   ]
  },
  {
   "cell_type": "markdown",
   "metadata": {},
   "source": [
    "La stemming et la lemmatisation sont des techniques de normalisation de texte (ou parfois appelées normalisation de mots) \n",
    "dans le domaine du traitement du langage naturel qui sont utilisées pour préparer du texte,\n",
    "des mots et des documents pour un traitement ultérieur.\n"
   ]
  },
  {
   "cell_type": "code",
   "execution_count": 12,
   "metadata": {},
   "outputs": [
    {
     "data": {
      "text/plain": [
       "<nltk.stem.snowball.SnowballStemmer at 0x2265079b0f0>"
      ]
     },
     "execution_count": 12,
     "metadata": {},
     "output_type": "execute_result"
    }
   ],
   "source": [
    "stemmer = SnowballStemmer('english')\n",
    "stemmer"
   ]
  },
  {
   "cell_type": "code",
   "execution_count": 13,
   "metadata": {},
   "outputs": [],
   "source": [
    "for index in range(len(data)):\n",
    "    data['FirstCleaned'] = data[0].apply(lambda x: \" \".join(stemmer.stem(e) for e in re.sub('[^a-zA-Z]', \" \", x).split()\n",
    "                                                      if e not in stopwords.words('english') and len(e)>3).lower())"
   ]
  },
  {
   "cell_type": "code",
   "execution_count": 40,
   "metadata": {},
   "outputs": [
    {
     "data": {
      "text/plain": [
       "0                                              love appl\n",
       "1        thank appl love iphon appl iphon twitter xmhjcu\n",
       "2                          appl best custom servic phone\n",
       "3                 appl pod amaz best sound headphon ever\n",
       "4      iphon cool read finger print unlock iphon make...\n",
       "                             ...                        \n",
       "684                appl store final get phone real crack\n",
       "685                    need middl finger emoji appl make\n",
       "686                              jerk puttin presal appl\n",
       "687    appl discontinu card print servic recommend us...\n",
       "688    with ibeacon appl go dump embrac internet thin...\n",
       "Name: FirstCleaned, Length: 654, dtype: object"
      ]
     },
     "execution_count": 40,
     "metadata": {},
     "output_type": "execute_result"
    }
   ],
   "source": [
    "data['FirstCleaned']"
   ]
  },
  {
   "cell_type": "markdown",
   "metadata": {},
   "source": [
    "la tokenisation se réfère essentiellement à la division d'un plus grand corps de texte en lignes\n",
    "mots plus petits, ensuite on va calculer la fréquence de chaque mots dans le dataFrame puis on va afficher les mots les plus fréquents"
   ]
  },
  {
   "cell_type": "code",
   "execution_count": 48,
   "metadata": {},
   "outputs": [],
   "source": [
    "top_N = 25\n",
    "df = data['FirstCleaned'].str.cat(sep=' ')\n",
    "words = nltk.tokenize.word_tokenize(df)\n",
    "word_dist = nltk.FreqDist(words)\n",
    "DataFrameFrequency = pd.DataFrame(word_dist.most_common(top_N),\n",
    "                    columns=['Word', 'Frequency'])"
   ]
  },
  {
   "cell_type": "code",
   "execution_count": 49,
   "metadata": {},
   "outputs": [
    {
     "data": {
      "text/html": [
       "<div>\n",
       "<style scoped>\n",
       "    .dataframe tbody tr th:only-of-type {\n",
       "        vertical-align: middle;\n",
       "    }\n",
       "\n",
       "    .dataframe tbody tr th {\n",
       "        vertical-align: top;\n",
       "    }\n",
       "\n",
       "    .dataframe thead th {\n",
       "        text-align: right;\n",
       "    }\n",
       "</style>\n",
       "<table border=\"1\" class=\"dataframe\">\n",
       "  <thead>\n",
       "    <tr style=\"text-align: right;\">\n",
       "      <th></th>\n",
       "      <th>Word</th>\n",
       "      <th>Frequency</th>\n",
       "    </tr>\n",
       "  </thead>\n",
       "  <tbody>\n",
       "    <tr>\n",
       "      <th>0</th>\n",
       "      <td>appl</td>\n",
       "      <td>727</td>\n",
       "    </tr>\n",
       "    <tr>\n",
       "      <th>1</th>\n",
       "      <td>iphon</td>\n",
       "      <td>221</td>\n",
       "    </tr>\n",
       "    <tr>\n",
       "      <th>2</th>\n",
       "      <td>http</td>\n",
       "      <td>134</td>\n",
       "    </tr>\n",
       "    <tr>\n",
       "      <th>3</th>\n",
       "      <td>twitter</td>\n",
       "      <td>69</td>\n",
       "    </tr>\n",
       "    <tr>\n",
       "      <th>4</th>\n",
       "      <td>ipad</td>\n",
       "      <td>34</td>\n",
       "    </tr>\n",
       "    <tr>\n",
       "      <th>5</th>\n",
       "      <td>phone</td>\n",
       "      <td>32</td>\n",
       "    </tr>\n",
       "    <tr>\n",
       "      <th>6</th>\n",
       "      <td>store</td>\n",
       "      <td>31</td>\n",
       "    </tr>\n",
       "    <tr>\n",
       "      <th>7</th>\n",
       "      <td>itun</td>\n",
       "      <td>30</td>\n",
       "    </tr>\n",
       "    <tr>\n",
       "      <th>8</th>\n",
       "      <td>ipodplayerpromo</td>\n",
       "      <td>25</td>\n",
       "    </tr>\n",
       "    <tr>\n",
       "      <th>9</th>\n",
       "      <td>love</td>\n",
       "      <td>23</td>\n",
       "    </tr>\n",
       "    <tr>\n",
       "      <th>10</th>\n",
       "      <td>come</td>\n",
       "      <td>23</td>\n",
       "    </tr>\n",
       "    <tr>\n",
       "      <th>11</th>\n",
       "      <td>thank</td>\n",
       "      <td>22</td>\n",
       "    </tr>\n",
       "    <tr>\n",
       "      <th>12</th>\n",
       "      <td>make</td>\n",
       "      <td>21</td>\n",
       "    </tr>\n",
       "    <tr>\n",
       "      <th>13</th>\n",
       "      <td>like</td>\n",
       "      <td>21</td>\n",
       "    </tr>\n",
       "    <tr>\n",
       "      <th>14</th>\n",
       "      <td>need</td>\n",
       "      <td>21</td>\n",
       "    </tr>\n",
       "    <tr>\n",
       "      <th>15</th>\n",
       "      <td>ipod</td>\n",
       "      <td>20</td>\n",
       "    </tr>\n",
       "    <tr>\n",
       "      <th>16</th>\n",
       "      <td>microsoft</td>\n",
       "      <td>19</td>\n",
       "    </tr>\n",
       "    <tr>\n",
       "      <th>17</th>\n",
       "      <td>googl</td>\n",
       "      <td>19</td>\n",
       "    </tr>\n",
       "    <tr>\n",
       "      <th>18</th>\n",
       "      <td>time</td>\n",
       "      <td>18</td>\n",
       "    </tr>\n",
       "    <tr>\n",
       "      <th>19</th>\n",
       "      <td>think</td>\n",
       "      <td>17</td>\n",
       "    </tr>\n",
       "    <tr>\n",
       "      <th>20</th>\n",
       "      <td>fingerprint</td>\n",
       "      <td>16</td>\n",
       "    </tr>\n",
       "    <tr>\n",
       "      <th>21</th>\n",
       "      <td>what</td>\n",
       "      <td>16</td>\n",
       "    </tr>\n",
       "    <tr>\n",
       "      <th>22</th>\n",
       "      <td>would</td>\n",
       "      <td>16</td>\n",
       "    </tr>\n",
       "    <tr>\n",
       "      <th>23</th>\n",
       "      <td>samsung</td>\n",
       "      <td>16</td>\n",
       "    </tr>\n",
       "    <tr>\n",
       "      <th>24</th>\n",
       "      <td>android</td>\n",
       "      <td>15</td>\n",
       "    </tr>\n",
       "  </tbody>\n",
       "</table>\n",
       "</div>"
      ],
      "text/plain": [
       "               Word  Frequency\n",
       "0              appl        727\n",
       "1             iphon        221\n",
       "2              http        134\n",
       "3           twitter         69\n",
       "4              ipad         34\n",
       "5             phone         32\n",
       "6             store         31\n",
       "7              itun         30\n",
       "8   ipodplayerpromo         25\n",
       "9              love         23\n",
       "10             come         23\n",
       "11            thank         22\n",
       "12             make         21\n",
       "13             like         21\n",
       "14             need         21\n",
       "15             ipod         20\n",
       "16        microsoft         19\n",
       "17            googl         19\n",
       "18             time         18\n",
       "19            think         17\n",
       "20      fingerprint         16\n",
       "21             what         16\n",
       "22            would         16\n",
       "23          samsung         16\n",
       "24          android         15"
      ]
     },
     "execution_count": 49,
     "metadata": {},
     "output_type": "execute_result"
    }
   ],
   "source": [
    "DataFrameFrequency.head(25)"
   ]
  },
  {
   "cell_type": "code",
   "execution_count": 50,
   "metadata": {},
   "outputs": [],
   "source": [
    "import matplotlib.pyplot as plt\n",
    "%matplotlib inline\n",
    "import seaborn as sns"
   ]
  },
  {
   "cell_type": "code",
   "execution_count": 63,
   "metadata": {},
   "outputs": [
    {
     "data": {
      "text/plain": [
       "<matplotlib.axes._subplots.AxesSubplot at 0x22653f1ba20>"
      ]
     },
     "execution_count": 63,
     "metadata": {},
     "output_type": "execute_result"
    },
    {
     "data": {
      "image/png": "[encoded data removed]",
      "text/plain": [
       "<Figure size 432x288 with 1 Axes>"
      ]
     },
     "metadata": {
      "needs_background": "light"
     },
     "output_type": "display_data"
    }
   ],
   "source": [
    "DataFrameFrequency.plot.bar(x='Word', y='Frequency')"
   ]
  },
  {
   "cell_type": "code",
   "execution_count": 77,
   "metadata": {},
   "outputs": [
    {
     "data": {
      "image/png": "[encoded data removed]",
      "text/plain": [
       "<Figure size 432x288 with 1 Axes>"
      ]
     },
     "metadata": {
      "needs_background": "light"
     },
     "output_type": "display_data"
    }
   ],
   "source": [
    "from wordcloud import WordCloud, ImageColorGenerator, STOPWORDS\n",
    "stopwords = set(STOPWORDS)\n",
    "#text = DataFrameFrequency['Word']\n",
    "\n",
    "wc = WordCloud(background_color='white', stopwords=stopwords, contour_width=4, contour_color='black', max_words=25)\n",
    "wc.generate(' '.join(DataFrameFrequency['Word']))\n",
    "plt.imshow(wc, interpolation='bilinear')\n",
    "plt.axis('off')\n",
    "plt.show()"
   ]
  },
  {
   "cell_type": "markdown",
   "metadata": {},
   "source": [
    "On conclure que notre dataset se focalise essentiellement sur les produits Apple(appl, ipad, iphon)."
   ]
  },
  {
   "cell_type": "code",
   "execution_count": 98,
   "metadata": {},
   "outputs": [],
   "source": [
    "from pyspark.ml.feature import NGram\n",
    "from pyspark.sql import SQLContext"
   ]
  },
  {
   "cell_type": "code",
   "execution_count": 85,
   "metadata": {},
   "outputs": [
    {
     "name": "stdout",
     "output_type": "stream",
     "text": [
      "+--------------------+--------------------+--------------------+--------------------+\n",
      "|                   0|        FirstCleaned|            Tokenize|       SecondCleaned|\n",
      "+--------------------+--------------------+--------------------+--------------------+\n",
      "| LOVE U @APPLE,1.8\t\n",
      "|           love appl|        [love, appl]|        [love, appl]|\n",
      "|Thank you @apple,...|thank appl love i...|[thank, appl, lov...|[thank, appl, lov...|\n",
      "|.@apple has the b...|appl best custom ...|[appl, best, cust...|[appl, best, cust...|\n",
      "|@apple ear pods a...|appl pod amaz bes...|[appl, pod, amaz,...|[appl, pod, amaz,...|\n",
      "|Omg the iPhone 5S...|iphon cool read f...|[iphon, cool, rea...|[iphon, cool, rea...|\n",
      "|the iPhone 5c is ...|   iphon beauti appl|[iphon, beauti, a...|[iphon, beauti, a...|\n",
      "|#AttributeOwnersh...|attributeownershi...|[attributeownersh...|[attributeownersh...|\n",
      "|Just checked out ...|just check spec w...|[just, check, spe...|[just, check, spe...|\n",
      "|I love the new iO...|love much thnx ap...|[love, much, thnx...|[love, much, thnx...|\n",
      "|Can't wait to get...|     wait iphon appl| [wait, iphon, appl]| [wait, iphon, appl]|\n",
      "|@V2vista Fingerpr...|vista fingerprint...|[vista, fingerpri...|[vista, fingerpri...|\n",
      "|Interesting  how ...|interest mani peo...|[interest, mani, ...|[interest, mani, ...|\n",
      "|I LOVE @BNBuzz @N...|love bnbuzz nooks...|[love, bnbuzz, no...|[love, bnbuzz, no...|\n",
      "|Just watched the ...|just watch keynot...|[just, watch, key...|[just, watch, key...|\n",
      "|My iPhone wasn't ...|iphon call correc...|[iphon, call, cor...|[iphon, call, cor...|\n",
      "|Great job @apple ...|great appl provid...|[great, appl, pro...|[great, appl, pro...|\n",
      "|Swapped my #galax...|swap galaxi iphon...|[swap, galaxi, ip...|[swap, galaxi, ip...|\n",
      "|Can't wait for my...|wait orang phone ...|[wait, orang, pho...|[wait, orang, pho...|\n",
      "|#colored #iphone!...|color iphon iphon...|[color, iphon, ip...|[color, iphon, ip...|\n",
      "|Whether you're an...|whether appl ipho...|[whether, appl, i...|[whether, appl, i...|\n",
      "+--------------------+--------------------+--------------------+--------------------+\n",
      "only showing top 20 rows\n",
      "\n"
     ]
    }
   ],
   "source": [
    "sc = SparkContext.getOrCreate()\n",
    "sqlContext = SQLContext(sc)\n",
    "spark_df = sqlContext.createDataFrame(data)\n",
    "spark_df.show()"
   ]
  },
  {
   "cell_type": "markdown",
   "metadata": {},
   "source": [
    "Construire à partir d'une séquence de lettres donnée d'obtenir la fonction de vraisemblance des mots dans le dataset."
   ]
  },
  {
   "cell_type": "code",
   "execution_count": 100,
   "metadata": {},
   "outputs": [],
   "source": [
    "ngram = NGram(n = 2, inputCol=\"SecondCleaned\", outputCol=\"2grams\")\n",
    "ngramDF = ngram.transform(spark_df)"
   ]
  },
  {
   "cell_type": "code",
   "execution_count": 92,
   "metadata": {},
   "outputs": [
    {
     "name": "stdout",
     "output_type": "stream",
     "text": [
      "lxforev laurenjessa sleep button slowli die love appl servic happi custom sure bubblemania data polici\n",
      "['lxforev laurenjessa', 'laurenjessa sleep', 'sleep button', 'button slowli', 'slowli die', 'die love', 'love appl', 'appl servic', 'servic happi', 'happi custom', 'custom sure', 'sure bubblemania', 'bubblemania data', 'data polici']\n"
     ]
    }
   ],
   "source": [
    "row = ngramDF.select(\"FirstCleaned\", \"2grams\").collect()[100]\n",
    "\n",
    "print(row[\"FirstCleaned\"])\n",
    "print(row[\"2grams\"])"
   ]
  },
  {
   "cell_type": "code",
   "execution_count": 94,
   "metadata": {},
   "outputs": [
    {
     "name": "stdout",
     "output_type": "stream",
     "text": [
      "knew someon drive would send text appl provid feedback imessag prodmktg\n",
      "['knew someon', 'someon drive', 'drive would', 'would send', 'send text', 'text appl', 'appl provid', 'provid feedback', 'feedback imessag', 'imessag prodmktg']\n"
     ]
    }
   ],
   "source": [
    "row = ngramDF.select(\"FirstCleaned\", \"2grams\").collect()[300]\n",
    "\n",
    "print(row[\"FirstCleaned\"])\n",
    "print(row[\"2grams\"])"
   ]
  },
  {
   "cell_type": "code",
   "execution_count": 103,
   "metadata": {},
   "outputs": [],
   "source": [
    "ngram = NGram(n = 3, inputCol=\"SecondCleaned\", outputCol=\"3grams\")\n",
    "ngramDF = ngram.transform(spark_df)"
   ]
  },
  {
   "cell_type": "code",
   "execution_count": 105,
   "metadata": {},
   "outputs": [
    {
     "name": "stdout",
     "output_type": "stream",
     "text": [
      "lxforev laurenjessa sleep button slowli die love appl servic happi custom sure bubblemania data polici\n",
      "['lxforev laurenjessa sleep', 'laurenjessa sleep button', 'sleep button slowli', 'button slowli die', 'slowli die love', 'die love appl', 'love appl servic', 'appl servic happi', 'servic happi custom', 'happi custom sure', 'custom sure bubblemania', 'sure bubblemania data', 'bubblemania data polici']\n"
     ]
    }
   ],
   "source": [
    "row = ngramDF.select(\"FirstCleaned\", \"3grams\").collect()[100]\n",
    "\n",
    "print(row[\"FirstCleaned\"])\n",
    "print(row[\"3grams\"])"
   ]
  },
  {
   "cell_type": "code",
   "execution_count": 106,
   "metadata": {},
   "outputs": [
    {
     "name": "stdout",
     "output_type": "stream",
     "text": [
      "knew someon drive would send text appl provid feedback imessag prodmktg\n",
      "['knew someon drive', 'someon drive would', 'drive would send', 'would send text', 'send text appl', 'text appl provid', 'appl provid feedback', 'provid feedback imessag', 'feedback imessag prodmktg']\n"
     ]
    }
   ],
   "source": [
    "row = ngramDF.select(\"FirstCleaned\", \"3grams\").collect()[300]\n",
    "\n",
    "print(row[\"FirstCleaned\"])\n",
    "print(row[\"3grams\"])"
   ]
  },
  {
   "cell_type": "markdown",
   "metadata": {},
   "source": [
    "## TF * IDF\n",
    "\n",
    "\n",
    "## Term Frequency\n",
    "Le nombre de fois qu'un mot apparaît dans un document divisé par le nombre total de mots dans le document. Chaque document a sa propre fréquence de mandats."
   ]
  },
  {
   "cell_type": "code",
   "execution_count": 108,
   "metadata": {},
   "outputs": [],
   "source": [
    "from pyspark.ml.feature import CountVectorizer"
   ]
  },
  {
   "cell_type": "markdown",
   "metadata": {},
   "source": [
    "Le CountVectorizer de Scikit-learn est utilisé pour convertir une collection de documents texte en un vecteur de nombre de termes / jetons. Il permet également le prétraitement des données textuelles avant de générer la représentation vectorielle. Cette fonctionnalité en fait un module de représentation d'entités très flexible pour le texte."
   ]
  },
  {
   "cell_type": "code",
   "execution_count": 109,
   "metadata": {},
   "outputs": [],
   "source": [
    "#countVectorizer = CountVectorizer(inputCol=\"words_filtred\", outputCol=\"features_tf\", vocabSize=2)\n",
    "countVectorizer = CountVectorizer(inputCol=\"SecondCleaned\", outputCol=\"features_tf\")\n",
    "model = countVectorizer.fit(spark_df)"
   ]
  },
  {
   "cell_type": "code",
   "execution_count": 110,
   "metadata": {},
   "outputs": [
    {
     "name": "stdout",
     "output_type": "stream",
     "text": [
      "['appl', 'iphon', 'http', 'twitter', 'ipad', 'phone', 'store', 'itun', 'ipodplayerpromo', 'love', 'come', 'thank', 'like', 'make', 'need', 'ipod', 'googl', 'microsoft', 'time', 'think', 'samsung', 'fingerprint', 'what', 'would', 'promo', 'android', 'nokia', 'mobil', 'market', 'look', 'pleas', 'releas', 'announc', 'help', 'work', 'next', 'anyon', 'color', 'this', 'back', 'know', 'well', 'devic', 'updat', 'want', 'thing', 'tech', 'sure', 'wait', 'give', 'could', 'innov', 'peopl', 'good', 'get', 'just', 'burberri', 'avail', 'featur', 'differ', 'dear', 'follow', 'upgrad', 'today', 'free', 'alreadi', 'go', 'great', 'emoji', 'year', 'idea', 'wish', 'use', 'touchid', 'will', 'gold', 'ibrooklynb', 'na', 'realli', 'video', 'buff', 'screen', 'best', 'product', 'take', 'that', 'game', 'white', 'done', 'app', 'awesom', 'right', 'better', 'servic', 'news', 'actual', 'gon', 'technolog', 'compani', 'hope', 'guess', 'motorola', 'keynot', 'auto', 'brand', 'watch', 'play', 'black', 'windowsphon', 'seem', 'bring', 'week', 'when', 'busi', 'iphoto', 'stop', 'case', 'price', 'tell', 'still', 'someth', 'guy', 'call', 'samsungsa', 'read', 'mishi', 'much', 'macbook', 'text', 'live', 'experi', 'blackberri', 'page', 'sprint', 'colour', 'world', 'test', 'instagram', 'spot', 'sell', 'internet', 'natz', 'instead', 'never', 'chip', 'smartphon', 'generat', 'first', 'everi', 'preorder', 'excit', 'launch', 'order', 'soon', 'design', 'tsuyoponzu', 'final', 'feel', 'made', 'print', 'develop', 'siri', 'show', 'improv', 'copi', 'secur', 'perfect', 'team', 'share', 'impress', 'everyth', 'sound', 'drop', 'system', 'doe', 'articl', 'genius', 'nuevo', 'park', 'believ', 'haha', 'finger', 'number', 'cool', 'thought', 'quicker', 'futur', 'straight', 'laugh', 'level', 'scaleboxapp', 'check', 'green', 'talk', 'neither', 'appletv', 'user', 'happi', 'bueno', 'send', 'steve', 'michaeljordan', 'evenstarz', 'have', 'provid', 'without', 'para', 'bubblemania', 'true', 'introduc', 'scanner', 'beauti', 'music', 'with', 'date', 'amaz', 'unlock', 'becom', 'ayudamovistarv', 'lxforev', 'repair', 'batteri', 'mayb', 'ghostt', 'person', 'turn', 'project', 'someon', 'day', 'putin', 'summer', 'gif', 'home', 'onli', 'hott', 'china', 'also', 'itunesfestiv', 'touch', 'latest', 'put', 'appletweet', 'movistar', 'hurt', 'support', 'easier', 'excel', 'left', 'mani', 'fact', 'where', 'hold', 'mini', 'went', 'connect', 'headphon', 'lmao', 'cuando', 'everyon', 'themixxhangout', 'reason', 'found', 'even', 'set', 'onlin', 'youtub', 'crack', 'offer', 'start', 'laptop', 'interest', 'iwork', 'life', 'mashabl', 'septemb', 'battalalgoo', 'recommend', 'creat', 'miss', 'said', 'custom', 'recognit', 'champagn', 'care', 'runway', 'smart', 'solar', 'move', 'fast', 'barato', 'rais', 'chrome', 'download', 'stick', 'ask', 'jmlcolley', 'cook', 'offic', 'again', 'concept', 'youtu', 'collabor', 'line', 'safari', 'discontinu', 'post', 'yeah', 'your', 'teamiphon', 'recent', 'creativefutur', 'plastic', 'engin', 'uwscreat', 'laurenjessa', 'freak', 'highlyhightori', 'glad', 'wonder', 'say', 'barnard', 'hahaha', 'they', 'though', 'fashion', 'light', 'simpl', 'password', 'softwar', 'fire', 'student', 'million', 'stand', 'stock', 'jesus', 'johan', 'imovi', 'worth', 'tablet', 'away', 'morn', 'card', 'galaxi', 'nice', 'appstor', 'save', 'song', 'quick', 'around', 'silver', 'import', 'match', 'sagarkamesh', 'includ', 'chang', 'ibeacon', 'spring', 'biometr', 'electrafood', 'uksga', 'meet', 'forbit', 'els', 'shot', 'stun', 'condescens', 'lead', 'infrastructur', 'happen', 'christma', 'button', 'replac', 'lower', 'funni', 'itunesmus', 'sensor', 'consum', 'undefin', 'opzc', 'trademark', 'filsfan', 'patent', 'nasa', 'tweet', 'half', 'tool', 'name', 'ebaycheck', 'culpa', 'them', 'hard', 'ginianight', 'readi', 'long', 'jasonrein', 'kid', 'told', 'last', 'waterproof', 'then', 'camera', 'doesn', 'tempt', 'hous', 'view', 'themixxradio', 'goe', 'hardwar', 'compet', 'wassup', 'thepartycow', 'some', 'complet', 'term', 'issu', 'break', 'constant', 'problem', 'second', 'employe', 'shini', 'homeown', 'might', 'invent', 'yesterday', 'media', 'drive', 'manufactur', 'lmuia', 'pandora', 'write', 'friday', 'piec', 'imessag', 'count', 'surpris', 'india', 'phoneblock', 'dougrtequan', 'pictur', 'mallow', 'lusalazar', 'jealous', 'hour', 'orang', 'catscab', 'speed', 'listen', 'mac', 'older', 'quiet', 'brilliant', 'snap', 'accion', 'ant', 'high', 'data', 'ident', 'posit', 'commerci', 'clave', 'topic', 'display', 'earplz', 'forc', 'french', 'lanzamiento', 'sorprenden', 'highlight', 'dlvr', 'dell', 'mash', 'instal', 'socialw', 'type', 'lafond', 'remain', 'rota', 'behind', 'favorit', 'correct', 'fantast', 'charg', 'sysco', 'discount', 'kalo', 'dont', 'allow', 'dispositivo', 'dude', 'nerd', 'mobilebiz', 'revolution', 'hello', 'tehgreenmc', 'verizonwireless', 'size', 'slow', 'least', 'worri', 'man', 'gave', 'cnet', 'enough', 'special', 'darn', 'imag', 'money', 'alarm', 'boeingairplan', 'detail', 'resumen', 'metro', 'review', 'musician', 'mute', 'saca', 'expect', 'manolo', 'night', 'folk', 'kind', 'step', 'whack', 'oooo', 'homeimprov', 'finish', 'convert', 'universityofki', 'came', 'understand', 'aheaux', 'manita', 'alway', 'huge', 'voic', 'applenw', 'retail', 'sinc', 'incred', 'darrensproat', 'unveil', 'strategi', 'rington', 'ucuz', 'desper', 'let', 'dereksand', 'croc', 'nobodi', 'regul', 'absolut', 'potenti', 'transfer', 'continu', 'airwaysmagazin', 'jarvi', 'donat', 'annoy', 'worldwid', 'adambain', 'tri', 'usuario', 'version', 'teaser', 'applenew', 'list', 'sept', 'window', 'nieuw', 'ever', 'fuel', 'partner', 'gift', 'pretti', 'map', 'feedback', 'promot', 'sign', 'total', 'startup', 'newsflash', 'confirm', 'anybodi', 'function', 'heeft', 'build', 'pschiller', 'die', 'yellow', 'firm', 'mbzlm', 'learn', 'volley', 'sent', 'como', 'togeth', 'beyonc', 'sorri', 'photographi', 'wfujr', 'battl', 'option', 'simpli', 'noth', 'andymiah', 'stone', 'hear', 'oper', 'after', 'either', 'photog', 'basic', 'banca', 'sold', 'mizbuchito', 'account', 'wrong', 'choos', 'fishbat', 'chino', 'yatayoy', 'social', 'about', 'face', 'ross', 'forward', 'code', 'more', 'ijordan', 'cost', 'health', 'profil', 'lode', 'program', 'tenho', 'pour', 'cheaper', 'explainevrythng', 'missphilli', 'appleberri', 'choic', 'partnership', 'draw', 'saka', 'somehow', 'jerk', 'nuestro', 'fair', 'rauzjtpf', 'xdkgjfx', 'nieuwsgierigheid', 'funda', 'liter', 'hvnjyc', 'gelegd', 'deixava', 'rilascia', 'reales', 'decis', 'haybug', 'sauc', 'virginmobileusa', 'profit', 'short', 'okay', 'favourit', 'fysiokerkrad', 'presentasi', 'barackobama', 'graag', 'southern', 'lequel', 'muhammad', 'ticigajiem', 'xshi', 'purchas', 'grab', 'email', 'yespleas', 'aggress', 'glass', 'danni', 'oithelpdesk', 'wvapz', 'phoneblok', 'girl', 'wktt', 'sephora', 'makin', 'airbnb', 'geekhelpinghand', 'gqlku', 'yond', 'prove', 'bajan', 'bphone', 'womenswear', 'trigger', 'invit', 'onlyclass', 'bigger', 'flight', 'nookstudi', 'lost', 'pyrit', 'cart', 'freeee', 'centuri', 'dure', 'tomlinshortcak', 'panel', 'swtoc', 'scene', 'dbwtli', 'gent', 'mass', 'sobr', 'compart', 'wpcentral', 'possibl', 'wayneshurt', 'bezoekj', 'addit', 'desktop', 'select', 'marca', 'harm', 'got', 'deal', 'twitpic', 'mikesleek', 'taaaaanto', 'heap', 'there', 'unapologet', 'mort', 'dead', 'stephenclark', 'facial', 'caus', 'onazd', 'coisinha', 'materi', 'thinkdiffer', 'ship', 'aapl', 'dxzz', 'anymor', 'iysw', 'valu', 'stat', 'wensen', 'gadget', 'era', 'evid', 'sarcasm', 'apetec', 'geniusbar', 'edg', 'couwn', 'nokiaus', 'privaci', 'qbsb', 'pitch', 'optnw', 'horner', 'rememb', 'wacwac', 'jagqqkjmr', 'cheapen', 'katewalsh', 'yakin', 'fruit', 'opzqp', 'ymgc', 'jedi', 'express', 'pride', 'amount', 'empow', 'darnit', 'issi', 'cement', 'whose', 'jmflooor', 'unlook', 'lawtechnew', 'hlvxntisug', 'lumia', 'porra', 'infograph', 'tambien', 'copia', 'yoga', 'condom', 'wkjhyg', 'brodi', 'investor', 'yapilan', 'someday', 'dxutjk', 'thndr', 'zostac', 'conserv', 'backchannel', 'mfayax', 'simpler', 'granular', 'megapixel', 'arianagrand', 'stuff', 'wielu', 'wan', 'hangisini', 'clickitandlickit', 'dana', 'deliveri', 'gamer', 'pido', 'truli', 'bgfbbqiu', 'onforb', 'omtd', 'iohp', 'lion', 'prodmktg', 'ofqgc', 'healthcar', 'driven', 'vibo', 'ehihnvdn', 'dislik', 'isfarahmad', 'rate', 'unit', 'pastic', 'whoever', 'storefront', 'thegoldalbum', 'selalu', 'stuck', 'clusocluso', 'happyd', 'breve', 'analogdanni', 'samsungorappl', 'matt', 'seguridad', 'cecilialui', 'oqwmp', 'hire', 'achiev', 'dave', 'dije', 'tegenslag', 'luggi', 'mall', 'rupe', 'hejtuj', 'nitotv', 'ddso', 'oonga', 'switch', 'paul', 'dump', 'raven', 'entir', 'oqcgb', 'shutupariell', 'fear', 'bretfordmanf', 'trendlab', 'histori', 'execut', 'creek', 'voor', 'hurri', 'event', 'counterpoint', 'town', 'trade', 'arab', 'child', 'heeey', 'forbid', 'doet', 'diufrf', 'blackappl', 'yahoo', 'pero', 'vive', 'gusta', 'lanceulanoff', 'pair', 'monday', 'mindblown', 'nossa', 'reut', 'pedir', 'randominventor', 'congrat', 'advantag', 'retard', 'expand', 'whelp', 'bravo', 'xwqjedhsvt', 'kjcd', 'consigo', 'beja', 'kaldirsana', 'appar', 'cerxp', 'travel', 'london', 'rush', 'digitallyperfect', 'telefonumu', 'regain', 'oyincansoda', 'insight', 'sentenc', 'sasirdik', 'embrac', 'apportando', 'whatsapp', 'signal', 'analys', 'telecelchitchat', 'recycl', 'bilinmez', 'month', 'host', 'netflix', 'sourc', 'niet', 'ilif', 'unfavour', 'rekabet', 'dammit', 'wold', 'vladsay', 'ovszn', 'melhor', 'rather', 'colefarrel', 'blog', 'lmaoo', 'class', 'rasna', 'marcgunth', 'onxpx', 'courtesi', 'mpayment', 'technobuffalo', 'thephenom', 'chat', 'recaptur', 'elimin', 'ontvolgen', 'brother', 'huhu', 'notif', 'sayin', 'leap', 'liber', 'femp', 'inventem', 'beard', 'orra', 'compar', 'waathaaaaan', 'secret', 'vagin', 'eokgf', 'ellenpompeo', 'beli', 'blatant', 'submit', 'datarecuperati', 'harder', 'changer', 'peasant', 'workingirl', 'kaitlin', 'unbeliev', 'dhvb', 'entrar', 'haba', 'mrjamesnobl', 'other', 'manag', 'pave', 'notch', 'daycar', 'lrqgl', 'subproducto', 'their', 'approv', 'berasa', 'san', 'jail', 'sincer', 'iter', 'entel', 'jenniebond', 'slrs', 'argh', 'bluetooth', 'california', 'recogn', 'shar', 'nstuff', 'yourthought', 'pink', 'flashlight', 'marciahofmann', 'nfcbe', 'brokenhomebutton', 'pittsburgh', 'alcagimizi', 'nava', 'dumb', 'digam', 'tast', 'built', 'fastcodesign', 'brown', 'berri', 'prepar', 'thumb', 'usatoday', 'motion', 'brian', 'fool', 'middl', 'icvt', 'leav', 'exit', 'imehop', 'kick', 'mobiel', 'messag', 'llombardo', 'fairlawn', 'question', 'ifcddhei', 'breakthrough', 'demis', 'render', 'throw', 'gsjkil', 'township', 'comput', 'toy', 'jhis', 'convenc', 'showcas', 'network', 'enter', 'none', 'yan', 'boutthatlif', 'lihat', 'emoticon', 'thnx', 'eebgc', 'seek', 'muerto', 'wont', 'gabriel', 'fascin', 'cago', 'stack', 'appsolut', 'diego', 'cake', 'kill', 'plant', 'easyryd', 'celu', 'blakegrahampga', 'trustworthi', 'heart', 'usabl', 'coprocessor', 'mejor', 'cholula', 'flawless', 'plannen', 'boydscot', 'favorita', 'timesnow', 'mimo', 'kanka', 'masih', 'pull', 'saini', 'smartwatch', 'differenti', 'zippo', 'cort', 'wheremyringat', 'yenisini', 'job', 'burst', 'immers', 'flash', 'yiyon', 'cleveland', 'coupon', 'axel', 'betalen', 'messeng', 'real', 'peor', 'countri', 'ngapain', 'coars', 'tras', 'plezier', 'walmart', 'thegreatest', 'malik', 'ahyzmo', 'action', 'greater', 'doctorverita', 'cloth', 'mulderc', 'processor', 'mediacat', 'precis', 'qotd', 'middag', 'storag', 'anod', 'giddyup', 'robot', 'mention', 'mint', 'weekend', 'theamazingsimon', 'full', 'anti', 'sleep', 'sation', 'classic', 'kama', 'healthcareoperationsmanag', 'passbook', 'ckpba', 'easi', 'trendsett', 'bozaag', 'applesecret', 'ebayindia', 'goed', 'csotourna', 'pelit', 'emerg', 'deploy', 'delet', 'eldaili', 'hidden', 'pant', 'sensit', 'onto', 'infiltr', 'yhsjjfzz', 'suck', 'golazo', 'xpnxl', 'metal', 'puttin', 'westlak', 'vwqalu', 'crisp', 'entri', 'status', 'ylume', 'realiz', 'pmmkdyvh', 'kimi', 'uniteblu', 'expert', 'snowden', 'georgeoak', 'bestbuy', 'orangehelp', 'thedimassa', 'alip', 'prior', 'quit', 'renam', 'air', 'qtges', 'kepintaran', 'markt', 'iradio', 'five', 'pasludinaja', 'frmoisesfr', 'talkingpay', 'commerc', 'hottest', 'fulli', 'kuqogroup', 'telefonu', 'ihavethefirston', 'ironman', 'faith', 'wreck', 'securitycompass', 'impati', 'marketshar', 'earpod', 'ovtw', 'onder', 'samsungmobileus', 'polici', 'bateria', 'brief', 'realexpay', 'maverick', 'fault', 'autofil', 'becaus', 'previoustweet', 'hate', 'hatewindow', 'springer', 'word', 'darthdream', 'florinnitulescu', 'frent', 'open', 'wayn', 'hosain', 'winner', 'note', 'qqdzqe', 'briantong', 'commit', 'thirti', 'fals', 'questionierr', 'correzioni', 'blackberryq', 'arent', 'clarifi', 'thru', 'niyetind', 'european', 'shift', 'bloodi', 'took', 'describ', 'protect', 'veteran', 'calm', 'construct', 'chris', 'strong', 'bnbuzz', 'shout', 'crazi', 'push', 'pdiv', 'legal', 'nueva', 'pculnan', 'jawbon', 'vnhha', 'tvmattscott', 'reaccion', 'irobot', 'lovegreatdesign', 'xconomi', 'yarbr', 'dynamictim', 'mundo', 'tiagouss', 'helpen', 'must', 'crypto', 'siento', 'soldier', 'race', 'wors', 'icon', 'cours', 'fanci', 'collin', 'capabl', 'poor', 'wenst', 'navidad', 'ringrazio', 'entertain', 'main', 'hall', 'producti', 'stevejob', 'closest', 'assist', 'multi', 'fluid', 'burgesg', 'predict', 'mhealth', 'landscap', 'faster', 'cupert', 'base', 'repli', 'cmon', 'taklit', 'collect', 'jimmi', 'piss', 'magazin', 'lot', 'rival', 'nowaday', 'akemisu', 'joint', 'axi', 'lifeinlofiblog', 'chiiiiqu', 'ndim', 'automat', 'seneng', 'succeed', 'konsumen', 'parem', 'problema', 'join', 'unexpect', 'courtsideassistappforio', 'confus', 'recipi', 'someplac', 'peksv', 'pall', 'bize', 'niyo', 'wordsofwisdom', 'challeng', 'letra', 'applecar', 'vari', 'applefreak', 'kilitliyken', 'receiv', 'con', 'proteg', 'asap', 'current', 'glove', 'howev', 'nookbn', 'model', 'meski', 'yolluomussun', 'mainstream', 'demonstr', 'opzpm', 'vkivk', 'hrok', 'xxswegboy', 'exhibit', 'sick', 'effect', 'fsle', 'stair', 'baja', 'meter', 'nativ', 'owner', 'elliedash', 'puedo', 'solv', 'sacaba', 'ybjlq', 'heaven', 'segar', 'cobertura', 'europa', 'delay', 'aewgr', 'lisa', 'diyip', 'homegirl', 'regist', 'box', 'spend', 'iahhc', 'creativ', 'lrwblog', 'four', 'peterloudi', 'facebook', 'makeithappen', 'fingerprintsrecognitom', 'doigt', 'olmus', 'ilxifu', 'vladimir', 'paypal', 'calendar', 'swap', 'gut', 'josiando', 'yapicam', 'ear', 'origin', 'industri', 'destruct', 'enjoy', 'tragic', 'inovasi', 'mrpumpkinslic', 'whitehous', 'prezzi', 'freelysoft', 'somebodi', 'same', 'olcgw', 'diciembr', 'reader', 'gcyc', 'recharg', 'alfredopeta', 'aller', 'touchscreen', 'thehoneymad', 'retina', 'advanc', 'traceyliddl', 'tap', 'opeax', 'wednesday', 'martin', 'refil', 'veel', 'echrofon', 'ifluzz', 'lbxctxbc', 'chipset', 'tocom', 'tight', 'olha', 'upcom', 'although', 'info', 'appleev', 'knibb', 'natur', 'veri', 'georg', 'warn', 'eispg', 'optog', 'adob', 'vuelta', 'omld', 'inakua', 'tien', 'pada', 'iphonec', 'ibookstor', 'imac', 'produktami', 'tryna', 'damag', 'bought', 'siwez', 'xccfeqh', 'momentsfad', 'dsma', 'embarass', 'almost', 'slowli', 'mhugh', 'grow', 'benigeri', 'opyn', 'mikey', 'facetim', 'killer', 'applepick', 'curs', 'lighter', 'tendr', 'ivizi', 'marri', 'clinton', 'aim', 'takentooz', 'deadmau', 'parentoftheyear', 'macbookpro', 'clear', 'attach', 'zimmerman', 'alifbladz', 'kimmel', 'brought', 'shastaann', 'capit', 'birthday', 'bold', 'monthlifespan', 'asid', 'iorjt', 'jocofino', 'knew', 'florida', 'justinbieb', 'wasn', 'shopbreamal', 'summit', 'chief', 'definitivament', 'sanirim', 'forget', 'notic', 'fail', 'anoth', 'magicmous', 'windsor', 'mobilerevolut', 'produk', 'chile', 'hurmetl', 'veryright', 'germania', 'seattl', 'till', 'sempr', 'wphdk', 'happier', 'educ', 'howsweleg', 'twit', 'mean', 'tile', 'dyson', 'gato', 'slam', 'ta', 'ohwel', 'etcanada', 'vienen', 'patient', 'grandi', 'rep', 'power', 'eiaj', 'load', 'tonto', 'inviol', 'partridg', 'jogo', 'somemonteur', 'paasa', 'airplay', 'trava', 'mileycyrus', 'wooden', 'penyevatimetufikisha', 'one', 'customerexplab', 'japan', 'wallpap', 'recoveri', 'behappi', 'shade', 'epic', 'plug', 'salesforc', 'anunciars', 'background', 'stink', 'vista', 'hasat', 'zifmstereo', 'pros', 'buy', 'gazell', 'fix', 'stratixcorp', 'davehakken', 'bridgetcarey', 'slain', 'yczjotih', 'mountain', 'skip', 'suit', 'photorateapp', 'lagi', 'verdommen', 'tsss', 'ireland', 'eltonjohn', 'tonight', 'shoot', 'kufikiria', 'oblong', 'birth', 'soannoy', 'asphalt', 'ahora', 'meant', 'sixti', 'cycl', 'thumbprint', 'awar', 'mirror', 'sharpmagazin', 'toqu', 'ineffici', 'numeros', 'accident', 'applestoreamsterdam', 'jimmykimmel', 'isti', 'dreamz', 'ueyrkwl', 'ckpcey', 'llegan', 'phenomenon', 'glossi', 'etkileyecek', 'ball', 'brengen', 'honest', 'dengan', 'cheap', 'haci', 'baixar', 'qualiti', 'brighter', 'dredd', 'place', 'restor', 'tengan', 'ugli', 'kthank', 'theft', 'fluzziti', 'strictlygeeki', 'peac', 'hurryup', 'group', 'morrer', 'myappl', 'cambiar', 'gone', 'littl', 'tabl', 'didn', 'richard', 'najlepsz', 'toma', 'darl', 'frickfuent', 'ngerprint', 'resourc', 'fysiek', 'fidqhmrd', 'valuat', 'odd', 'hacer', 'unreal', 'jqkcv', 'grey', 'loset', 'keyboard', 'seklidir', 'steal', 'stupidmicrosoft', 'solariphon', 'exact', 'twohat', 'doesnt', 'hand', 'packag', 'sheisyanni', 'trendmicro', 'passcod', 'polic', 'desarrollo', 'jill', 'kaxa', 'dolara', 'process', 'tyga', 'winthemo', 'statement', 'olayini', 'summin', 'fell', 'solo', 'simonmoel', 'banget', 'small', 'bonus', 'factor', 'helpthefellow', 'vintag', 'oracl', 'devis', 'domin', 'cover', 'gem', 'captur', 'side', 'ooooooooooooooo', 'rockstar', 'wherev', 'dzbmbp', 'saraiva', 'hipstamat', 'nouveau', 'starworldindia', 'soni', 'subway', 'glehel', 'derek', 'imor', 'ichooseblackberri', 'oocpf', 'ifdtv', 'navneet', 'dan', 'winphan', 'fit', 'confess', 'chillin', 'switcher', 'fingerprintscan', 'poeg', 'chunherena', 'adornar', 'assistenza', 'quiilucru', 'broke', 'algilari', 'degil', 'ettim', 'ybllz', 'forb', 'etawoyaut', 'indic', 'content', 'ema', 'aprovecha', 'dstv', 'ybarra', 'onga', 'mhvci', 'shape', 'highsnobieti', 'lifebatteri', 'strength', 'loom', 'venturebeat', 'dqxt', 'putangina', 'gdrwfe', 'creep', 'huhuhuhuhu', 'pzqzsq', 'sec', 'uhypsr', 'dinosaur', 'livr', 'mata', 'smgtechmedia', 'americascup', 'dot', 'oeil', 'add', 'seri', 'piano', 'nigdi', 'iltifat', 'revenu', 'yapilmistir', 'fanboy', 'xmhjcu', 'turkiyed', 'fymk', 'rzjzyssj', 'dinero', 'femal', 'cnnmon', 'toetsenbord', 'figur', 'beidzot', 'cisco', 'extens', 'theespinalien', 'usat', 'thinkauto', 'croi', 'techstationit', 'quot', 'programm', 'default', 'isho', 'bubbl', 'outdo', 'redesign', 'legit', 'departur', 'glam', 'camp', 'drumrol', 'deathmatch', 'kaitlinbongo', 'reus', 'blindoldfreak', 'tongu', 'chanc', 'orig', 'havasinda', 'omdat', 'ahead', 'qodni', 'koch', 'egmopu', 'heey', 'anythng', 'manolomata', 'stycznosci', 'meno', 'eoodxzgvpq', 'spirit', 'thunderbolt', 'lisbeld', 'sjvvjka', 'pastel', 'buyer', 'ratio', 'bostonreid', 'jzfan', 'visit', 'nangyari', 'disq', 'govern', 'piephon', 'alum', 'edward', 'mcstyle', 'parodi', 'colorida', 'welcom', 'twerk', 'research', 'transit', 'aggiornamento', 'trick', 'fan', 'autocorrect', 'dream', 'ugkoa', 'itaoafkp', 'artcenteralum', 'amerikada', 'sudden', 'russian', 'forecast', 'watchespn', 'john', 'dint', 'ehhh', 'surfer', 'anuncio', 'bloom', 'goodmorn', 'volum', 'potasiyam', 'tentei', 'attributeownership', 'worst', 'mcandrew', 'fireandic', 'fulltimebro', 'wantappl', 'mcmillen', 'butt', 'carri', 'cherylcol', 'nawwww', 'shareahol', 'subotag', 'grati', 'soooo', 'iseeblighti', 'onz', 'phillydvib', 'accordingtonina', 'channel', 'bbfsca', 'inovasinya', 'katanya', 'laker', 'yklaz', 'emiratesteamnz', 'descola', 'retrofit', 'willen', 'logo', 'cnnee', 'warna', 'present', 'opzpr', 'urqvm', 'visto', 'mine', 'porem', 'timcookappleceo', 'spec', 'inspir', 'gebruikt', 'keeeruh', 'presal', 'simultan', 'brenberryblast', 'exijo', 'kemalnad', 'verizon', 'hagan', 'stratix', 'jackson', 'ad', 'laikam', 'anong', 'editoradraco', 'fxeibw', 'coremot', 'jzni', 'demand', 'lip', 'yurbud', 'press', 'hyperbol', 'dougkass', 'ungod', 'magnacarta', 'resistir', 'abrsm', 'jaizlasa', 'xusyf', 'geekchic', 'huffposttech', 'throwin', 'todd', 'yehjtsjkmj', 'author', 'earli', 'ksdcr', 'killin', 'anyway', 'activist', 'bewegingsprocessor', 'tylko', 'sharif', 'buck', 'autoplay', 'algo', 'cute', 'wile', 'fav', 'astrologyzon', 'yzlx', 'violin', 'dayiya', 'paso', 'boomheadshot', 'luxuri', 'everybodi', 'johnathonv', 'starbuck', 'given', 'multipl', 'oggl', 'mcommerc', 'fake', 'scan', 'adventur', 'singl', 'omrmn', 'greeniphon', 'cloud', 'rqsyb', 'kinda', 'recess', 'glitch', 'remind', 'diss', 'novemb', 'keep', 'bolsa', 'droclicquot', 'libcrib', 'cnnmoney', 'taman', 'plagiaat', 'regalenm', 'usted', 'dev', 'xfrancesjoanna', 'tharz', 'ylvbd', 'which', 'whether', 'typic', 'jonjonnyp', 'sdrv', 'ischool', 'potencia', 'crocker', 'expens', 'tomorrow', 'nike', 'sender', 'ortada', 'male', 'ought', 'block', 'betehen', 'reflect', 'roll', 'autocomplet', 'choisir', 'impar', 'dunia', 'dept', 'mbair', 'davetwentyman', 'tesekur', 'oonxw', 'jonyiv', 'pod', 'reign', 'bewegingsproc', 'progress', 'heck', 'compt', 'loveit', 'opco', 'flip', 'admit', 'environ', 'dmimdt', 'huff', 'diabet', 'vacuum', 'luckili', 'coverag', 'kxvv', 'digit', 'grote', 'paperwork', 'registri', 'pfsj', 'fecha']\n",
      "2072\n"
     ]
    }
   ],
   "source": [
    "print(model.vocabulary)\n",
    "print(len(model.vocabulary))"
   ]
  },
  {
   "cell_type": "code",
   "execution_count": 113,
   "metadata": {},
   "outputs": [],
   "source": [
    "countDF = model.transform(spark_df)\n",
    "row = countDF.collect()[100]"
   ]
  },
  {
   "cell_type": "code",
   "execution_count": 114,
   "metadata": {},
   "outputs": [
    {
     "name": "stdout",
     "output_type": "stream",
     "text": [
      "lxforev laurenjessa sleep button slowli die love appl servic happi custom sure bubblemania data polici\n",
      "['lxforev', 'laurenjessa', 'sleep', 'button', 'slowli', 'die', 'love', 'appl', 'servic', 'happi', 'custom', 'sure', 'bubblemania', 'data', 'polici']\n",
      "(2072,[0,9,47,93,197,207,219,280,314,370,456,588,1146,1221,1484],[1.0,1.0,1.0,1.0,1.0,1.0,1.0,1.0,1.0,1.0,1.0,1.0,1.0,1.0,1.0])\n"
     ]
    }
   ],
   "source": [
    "print(row['FirstCleaned'])\n",
    "print(row['SecondCleaned'])\n",
    "print(row['features_tf'])"
   ]
  },
  {
   "cell_type": "code",
   "execution_count": 116,
   "metadata": {},
   "outputs": [
    {
     "data": {
      "text/plain": [
       "array([1., 0., 0., ..., 0., 0., 0.])"
      ]
     },
     "execution_count": 116,
     "metadata": {},
     "output_type": "execute_result"
    }
   ],
   "source": [
    "v = row['features_tf']\n",
    "v.toArray()"
   ]
  },
  {
   "cell_type": "markdown",
   "metadata": {},
   "source": [
    "## Document Frequency"
   ]
  },
  {
   "cell_type": "markdown",
   "metadata": {},
   "source": [
    "TFIDF, abréviation de terme fréquence – fréquence inverse des documents, est une statistique numérique qui vise à refléter l'importance d'un mot pour un document dans une collection ou un corpus. Il est souvent utilisé comme facteur de pondération dans les recherches de recherche d'informations, d'exploration de texte et de modélisation utilisateur. La valeur tf – idf augmente proportionnellement au nombre de fois qu'un mot apparaît dans le document et est compensée par le nombre de documents dans le corpus qui contiennent le mot, ce qui permet d'ajuster le fait que certains mots apparaissent plus fréquemment en général. tf – idf est l'un des schémas de pondération des termes les plus populaires aujourd'hui. Une enquête menée en 2015 a montré que 83% des systèmes de recommandation basés sur du texte dans les bibliothèques numériques utilisent tf – idf."
   ]
  },
  {
   "cell_type": "code",
   "execution_count": 119,
   "metadata": {},
   "outputs": [],
   "source": [
    "from pyspark.ml.feature import HashingTF, IDF"
   ]
  },
  {
   "cell_type": "code",
   "execution_count": 120,
   "metadata": {},
   "outputs": [],
   "source": [
    "idf = IDF(inputCol=\"features_tf\", outputCol=\"features_tf_idf\")\n",
    "idfModel = idf.fit(countDF)"
   ]
  },
  {
   "cell_type": "code",
   "execution_count": 121,
   "metadata": {},
   "outputs": [
    {
     "name": "stdout",
     "output_type": "stream",
     "text": [
      "+--------------------------------------------------------------------------------------+\n",
      "|FirstCleaned                                                                          |\n",
      "+--------------------------------------------------------------------------------------+\n",
      "|love appl                                                                             |\n",
      "|thank appl love iphon appl iphon twitter xmhjcu                                       |\n",
      "|appl best custom servic phone                                                         |\n",
      "|appl pod amaz best sound headphon ever                                                |\n",
      "|iphon cool read finger print unlock iphon make purchas without passcod appl appl      |\n",
      "|iphon beauti appl                                                                     |\n",
      "|attributeownership exact appl alway appl market market busi innov                     |\n",
      "|just check spec wait updat bravo appl                                                 |\n",
      "|love much thnx appl phillydvib                                                        |\n",
      "|wait iphon appl                                                                       |\n",
      "|vista fingerprint scanner killer featur iphon this bloodi brilliant appl timesnow http|\n",
      "|interest mani peopl seem almost will demis appl what go still favorit brand fantast   |\n",
      "|love bnbuzz nookstudi nookbn appl made life much easier morn                          |\n",
      "|just watch keynot appl latest iphon love iphon iphon guess christma gift alreadi      |\n",
      "|iphon call correct went appl store first time told gave brand phone                   |\n",
      "|great appl provid best user experi thinkauto                                          |\n",
      "|swap galaxi iphon after appl convert                                                  |\n",
      "|wait orang phone upgrad novemb appl iphon come orangehelp appl                        |\n",
      "|color iphon iphon come color love wait till appl appl iphon                           |\n",
      "|whether appl iphon video worth watch lot reason http ybjlq lovegreatdesign            |\n",
      "+--------------------------------------------------------------------------------------+\n",
      "only showing top 20 rows\n",
      "\n",
      "+------------------------------------------------------------------------------------------------------------------------------------------------------------------------------------------------------------------------------------------------------------------------------------------------------------+\n",
      "|features_tf_idf                                                                                                                                                                                                                                                                                             |\n",
      "+------------------------------------------------------------------------------------------------------------------------------------------------------------------------------------------------------------------------------------------------------------------------------------------------------------+\n",
      "|(2072,[0,9],[0.0,3.3065814052873064])                                                                                                                                                                                                                                                                       |\n",
      "|(2072,[0,1,3,9,11,1793],[0.0,2.5722764087388525,2.2505287310379924,3.3065814052873064,3.3491410197061025,5.791488055075306])                                                                                                                                                                                |\n",
      "|(2072,[0,5,82,93,280],[0.0,3.0188993328355256,4.287410658299033,4.405193693955416,5.098340874515361])                                                                                                                                                                                                       |\n",
      "|(2072,[0,82,171,215,255,570,2048],[0.0,4.287410658299033,4.875197323201151,4.875197323201151,5.098340874515361,5.386022946967143,5.791488055075306])                                                                                                                                                        |\n",
      "|(2072,[0,1,13,124,159,181,183,205,216,676,1692],[0.0,2.5722764087388525,3.440112797911829,4.538725086579938,4.692875766407197,4.875197323201151,4.875197323201151,4.875197323201151,4.875197323201151,5.791488055075306,5.791488055075306])                                                                 |\n",
      "|(2072,[0,1,211],[0.0,1.2861382043694263,4.875197323201151])                                                                                                                                                                                                                                                 |\n",
      "|(2072,[0,28,51,113,533,1685,1887],[0.0,7.6911558120399866,4.086739962836881,4.538725086579938,5.386022946967143,5.791488055075306,5.791488055075306])                                                                                                                                                       |\n",
      "|(2072,[0,43,48,55,191,906,1926],[0.0,3.9997285858472518,3.9997285858472518,4.182050142641207,4.875197323201151,5.791488055075306,5.791488055075306])                                                                                                                                                        |\n",
      "|(2072,[0,9,126,1066,1904],[0.0,3.3065814052873064,4.538725086579938,5.791488055075306,5.791488055075306])                                                                                                                                                                                                   |\n",
      "|(2072,[0,1,48],[0.0,1.2861382043694263,3.9997285858472518])                                                                                                                                                                                                                                                 |\n",
      "|(2072,[0,1,2,21,38,58,210,451,1093,1256,1491,1586],[0.0,1.2861382043694263,1.5942861074134982,3.7120465133954705,3.8455779060199933,4.287410658299033,4.875197323201151,5.386022946967143,5.791488055075306,5.791488055075306,5.791488055075306,5.791488055075306])                                         |\n",
      "|(2072,[0,22,52,66,74,104,109,119,248,270,479,481,1049,1483],[0.0,3.651421891579036,4.086739962836881,4.182050142641207,4.287410658299033,4.538725086579938,4.538725086579938,4.538725086579938,5.098340874515361,5.098340874515361,5.386022946967143,5.386022946967143,5.791488055075306,5.791488055075306])|\n",
      "|(2072,[0,9,126,158,245,272,340,703,1265,1362],[0.0,3.3065814052873064,4.538725086579938,4.692875766407197,5.098340874515361,5.098340874515361,5.098340874515361,5.791488055075306,5.791488055075306,5.791488055075306])                                                                                     |\n",
      "|(2072,[0,1,9,55,65,100,102,105,239,369,573],[0.0,3.8584146131082786,3.3065814052873064,4.182050142641207,4.182050142641207,4.538725086579938,4.538725086579938,4.538725086579938,5.098340874515361,5.386022946967143,5.386022946967143])                                                                    |\n",
      "|(2072,[0,1,5,6,18,104,122,147,253,396,480,501],[0.0,1.2861382043694263,3.0188993328355256,3.0834378539730967,3.5401962564688114,4.538725086579938,4.692875766407197,4.692875766407197,5.098340874515361,5.386022946967143,5.386022946967143,5.386022946967143])                                             |\n",
      "|(2072,[0,67,82,130,196,204,1807],[0.0,4.182050142641207,4.287410658299033,4.692875766407197,4.875197323201151,4.875197323201151,5.791488055075306])                                                                                                                                                         |\n",
      "|(2072,[0,1,342,527,609,1412],[0.0,1.2861382043694263,5.098340874515361,5.386022946967143,5.386022946967143,5.791488055075306])                                                                                                                                                                              |\n",
      "|(2072,[0,1,5,10,48,62,444,1190,2005],[0.0,1.2861382043694263,3.0188993328355256,3.3065814052873064,3.9997285858472518,4.287410658299033,5.386022946967143,5.791488055075306,5.791488055075306])                                                                                                             |\n",
      "|(2072,[0,1,9,10,37,48,1540],[0.0,3.8584146131082786,3.3065814052873064,3.3065814052873064,7.839371756347431,3.9997285858472518,5.791488055075306])                                                                                                                                                          |\n",
      "|(2072,[0,1,2,79,105,260,337,1278,1323,1385,2020],[0.0,1.2861382043694263,1.5942861074134982,4.287410658299033,4.538725086579938,5.098340874515361,5.098340874515361,5.791488055075306,5.791488055075306,5.791488055075306,5.791488055075306])                                                               |\n",
      "+------------------------------------------------------------------------------------------------------------------------------------------------------------------------------------------------------------------------------------------------------------------------------------------------------------+\n",
      "only showing top 20 rows\n",
      "\n"
     ]
    }
   ],
   "source": [
    "featuresDF = idfModel.transform(countDF)\n",
    "featuresDF.select(\"FirstCleaned\").show(truncate = False)\n",
    "featuresDF.select(\"features_tf_idf\").show(truncate = False)"
   ]
  },
  {
   "cell_type": "code",
   "execution_count": 122,
   "metadata": {},
   "outputs": [],
   "source": [
    "row = featuresDF.collect()[100]"
   ]
  },
  {
   "cell_type": "code",
   "execution_count": 123,
   "metadata": {},
   "outputs": [
    {
     "name": "stdout",
     "output_type": "stream",
     "text": [
      "lxforev laurenjessa sleep button slowli die love appl servic happi custom sure bubblemania data polici\n",
      "['lxforev', 'laurenjessa', 'sleep', 'button', 'slowli', 'die', 'love', 'appl', 'servic', 'happi', 'custom', 'sure', 'bubblemania', 'data', 'polici']\n",
      "(2072,[0,9,47,93,197,207,219,280,314,370,456,588,1146,1221,1484],[1.0,1.0,1.0,1.0,1.0,1.0,1.0,1.0,1.0,1.0,1.0,1.0,1.0,1.0,1.0])\n",
      "(2072,[0,9,47,93,197,207,219,280,314,370,456,588,1146,1221,1484],[0.0,3.3065814052873064,3.9997285858472518,4.405193693955416,4.875197323201151,4.875197323201151,4.875197323201151,5.098340874515361,5.098340874515361,5.386022946967143,5.386022946967143,5.386022946967143,5.791488055075306,5.791488055075306,5.791488055075306])\n"
     ]
    }
   ],
   "source": [
    "print(row[\"FirstCleaned\"])\n",
    "print(row[\"SecondCleaned\"])\n",
    "print(row[\"features_tf\"])\n",
    "print(row[\"features_tf_idf\"])"
   ]
  }
 ],
 "metadata": {
  "hide_input": false,
  "kernelspec": {
   "display_name": "Python 3",
   "language": "python",
   "name": "python3"
  },
  "language_info": {
   "codemirror_mode": {
    "name": "ipython",
    "version": 3
   },
   "file_extension": ".py",
   "mimetype": "text/x-python",
   "name": "python",
   "nbconvert_exporter": "python",
   "pygments_lexer": "ipython3",
   "version": "3.6.10"
  }
 },
 "nbformat": 4,
 "nbformat_minor": 4
}
